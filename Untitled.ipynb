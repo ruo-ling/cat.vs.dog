{
 "cells": [
  {
   "cell_type": "code",
   "execution_count": 2,
   "metadata": {},
   "outputs": [
    {
     "name": "stderr",
     "output_type": "stream",
     "text": [
      "Using TensorFlow backend.\n"
     ]
    }
   ],
   "source": [
    "import os\n",
    "import shutil\n",
    "from keras.models import *\n",
    "from keras.layers import *\n",
    "from keras.applications import *\n",
    "from keras.preprocessing.image import *\n",
    "from keras.applications import *\n",
    "import matplotlib.pyplot as plt\n",
    "import pandas as pd\n",
    "import cv2\n",
    "import numpy as np\n",
    "from keras.preprocessing import image\n",
    "import h5py"
   ]
  },
  {
   "cell_type": "code",
   "execution_count": 3,
   "metadata": {},
   "outputs": [],
   "source": [
    "#参数\n",
    "train_file_name='train'\n",
    "valid_file_name='valid'"
   ]
  },
  {
   "cell_type": "code",
   "execution_count": 4,
   "metadata": {},
   "outputs": [],
   "source": [
    "#图片分类，创建软链接\n",
    "train_filenames = os.listdir('imagedata/train')\n",
    "test_filenames = os.listdir('imagedata/test')\n",
    "\n",
    "train_cat = filter(lambda x:x[:3] == 'cat', train_filenames)\n",
    "train_dog = filter(lambda x:x[:3] == 'dog', train_filenames)\n",
    "\n",
    "\n",
    "def cre_rem_dir(dirname):\n",
    "    if os.path.exists(dirname):\n",
    "        shutil.rmtree(dirname)\n",
    "    os.mkdir(dirname)\n",
    "\n",
    "cre_rem_dir(train_file_name)\n",
    "os.mkdir(train_file_name+'/cat')\n",
    "os.mkdir(train_file_name+'/dog')\n",
    "\n",
    "cre_rem_dir('test2')\n",
    "os.mkdir('test2/test')\n",
    "\n",
    "cur_path=os.getcwd()\n",
    "\n",
    "    \n",
    "for filename in train_cat:\n",
    "    os.symlink(cur_path+'/imagedata/train/'+filename, train_file_name+'/cat/'+filename)\n",
    "for filename in train_dog:\n",
    "    os.symlink(cur_path+'/imagedata/train/'+filename, train_file_name+'/dog/'+filename)\n",
    "\n",
    "for filename in test_filenames:\n",
    "    os.symlink(cur_path+'/imagedata/test/'+filename, 'test2/test/'+filename)"
   ]
  },
  {
   "cell_type": "code",
   "execution_count": 5,
   "metadata": {},
   "outputs": [],
   "source": [
    "#数据增强\n",
    "def data_enhancement(model_pre_name,width,height):\n",
    "\n",
    "    train_datagen =  ImageDataGenerator(\n",
    "        preprocessing_function=model_pre_name.preprocess_input,\n",
    "        rotation_range=30,\n",
    "        width_shift_range=0.2,\n",
    "        height_shift_range=0.2,\n",
    "        shear_range=0.2,\n",
    "        zoom_range=0.2,\n",
    "        horizontal_flip=True\n",
    "    )\n",
    "\n",
    "    test_datagen = ImageDataGenerator(\n",
    "        preprocessing_function=model_pre_name.preprocess_input,\n",
    "        rotation_range=30,\n",
    "        width_shift_range=0.2,\n",
    "        height_shift_range=0.2,\n",
    "        shear_range=0.2,\n",
    "        zoom_range=0.2,\n",
    "        horizontal_flip=True\n",
    "    )\n",
    "\n",
    "\n",
    "    train_generator = train_datagen.flow_from_directory(\n",
    "      'train',\n",
    "      target_size=(width, height),\n",
    "      batch_size=batch_size,\n",
    "    )\n",
    "    test_generator = test_datagen.flow_from_directory(\n",
    "      'test2',\n",
    "      target_size=(width, height),\n",
    "      batch_size=batch_size,\n",
    "    )\n",
    "    \n",
    "    return (train_generator,test_generator)"
   ]
  },
  {
   "cell_type": "code",
   "execution_count": 6,
   "metadata": {},
   "outputs": [],
   "source": [
    "def get_feature(model_name,model_pre_name,epoch,width,height,FC_SIZE):\n",
    "    \n",
    "    base_model = model_name(weights='imagenet', include_top=False)\n",
    "    \n",
    "    model = Model(base_model.input, GlobalAveragePooling2D()(base_model.output))\n",
    "    \n",
    "    train_generator,test_generator = data_enhancement(model_pre_name,width,height)\n",
    "    \n",
    "    train = model.predict_generator(train_generator)\n",
    "    test = model.predict_generator(test_generator)\n",
    "    \n",
    "    with h5py.File(\"gap_%s.h5\"%MODEL.func_name) as h:\n",
    "        h.create_dataset(\"train\", data=train)\n",
    "        h.create_dataset(\"test\", data=validation)\n",
    "        h.create_dataset(\"label\", data=train_generator.classes)\n",
    "        "
   ]
  },
  {
   "cell_type": "code",
   "execution_count": null,
   "metadata": {},
   "outputs": [],
   "source": [
    "#调试参数\n",
    "IM_WIDTH, IM_HEIGHT = 299, 299 #fixed size \n",
    "\n",
    "batch_size=128\n",
    "nb_epoch =1\n",
    "FC_SIZE = 128"
   ]
  },
  {
   "cell_type": "code",
   "execution_count": null,
   "metadata": {},
   "outputs": [
    {
     "name": "stdout",
     "output_type": "stream",
     "text": [
      "Found 25000 images belonging to 2 classes.\n",
      "Found 12500 images belonging to 1 classes.\n"
     ]
    }
   ],
   "source": [
    "#选择模型\n",
    "\n",
    "get_feature(ResNet50,resnet50,nb_epoch,IM_WIDTH, IM_HEIGHT,FC_SIZE)\n",
    "get_feature(InceptionV3,inception_v3,nb_epoch,IM_WIDTH, IM_HEIGHT,FC_SIZE)\n",
    "get_feature(InceptionResNetV2,inception_resnet_v2,nb_epoch,IM_WIDTH, IM_HEIGHT,FC_SIZE)"
   ]
  },
  {
   "cell_type": "code",
   "execution_count": null,
   "metadata": {},
   "outputs": [],
   "source": [
    "X_train = []\n",
    "X_test = []\n",
    "\n",
    "for filename in [\"gap_ResNet50.h5\", \"gap_InceptionV3.h5\", \"gap_InceptionResNetV2.h5\"]:\n",
    "    with h5py.File(filename, 'r') as h:\n",
    "        X_train.append(np.array(h['train']))\n",
    "        X_test.append(np.array(h['test']))\n",
    "        y_train = np.array(h['label'])\n",
    "\n",
    "X_train = np.concatenate(X_train, axis=1)\n",
    "X_test = np.concatenate(X_test, axis=1)\n",
    "\n",
    "X_train, y_train = shuffle(X_train, y_train)"
   ]
  },
  {
   "cell_type": "code",
   "execution_count": null,
   "metadata": {},
   "outputs": [],
   "source": [
    "np.random.seed(2017)\n",
    "\n",
    "input_tensor = Input(X_train.shape[1:])\n",
    "x = Dropout(0.5)(input_tensor)\n",
    "x = Dense(1, activation='sigmoid')(x)\n",
    "model = Model(input_tensor, x)\n",
    "\n",
    "model.compile(optimizer='adadelta',\n",
    "              loss='binary_crossentropy',\n",
    "              metrics=['accuracy'])"
   ]
  },
  {
   "cell_type": "code",
   "execution_count": null,
   "metadata": {},
   "outputs": [],
   "source": [
    "digraph G{\n",
    "    node [shape=record]\n",
    "    a[label=\"ResNet50|{input:|output:}|{(224, 224, 3)|(2048)}\"]\n",
    "    b[label=\"InceptionV3|{input:|output:}|{(299, 299, 3)|(2048)}\"]\n",
    "    c[label=\"Xception|{input:|output:}|{(299, 299, 3)|(2048)}\"]\n",
    "    Merge[label=\"Merge|{input:|output:}|{(3, 2048)|(6144)}\"]\n",
    "    Dropout[label=\"Dropout|Rate:|0.5\"]\n",
    "    Output[label=\"Output|{input:|output:}|{(6144)|(1)}\"]\n",
    "    Image -> a -> Merge\n",
    "    Image -> b -> Merge\n",
    "    Image -> c -> Merge\n",
    "    Merge -> Dropout -> Output\n",
    "}"
   ]
  },
  {
   "cell_type": "code",
   "execution_count": null,
   "metadata": {},
   "outputs": [],
   "source": [
    "model.fit(X_train, y_train, batch_size=128, nb_epoch=8, validation_split=0.2)"
   ]
  }
 ],
 "metadata": {
  "kernelspec": {
   "display_name": "tensorflow",
   "language": "python",
   "name": "tensorflow"
  },
  "language_info": {
   "codemirror_mode": {
    "name": "ipython",
    "version": 3
   },
   "file_extension": ".py",
   "mimetype": "text/x-python",
   "name": "python",
   "nbconvert_exporter": "python",
   "pygments_lexer": "ipython3",
   "version": "3.5.4"
  }
 },
 "nbformat": 4,
 "nbformat_minor": 2
}
