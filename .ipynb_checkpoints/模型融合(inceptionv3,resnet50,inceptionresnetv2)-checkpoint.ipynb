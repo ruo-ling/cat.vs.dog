{
 "cells": [
  {
   "cell_type": "markdown",
   "metadata": {},
   "source": [
    "# 模型融合"
   ]
  },
  {
   "cell_type": "code",
   "execution_count": 1,
   "metadata": {},
   "outputs": [
    {
     "name": "stderr",
     "output_type": "stream",
     "text": [
      "Using TensorFlow backend.\n"
     ]
    }
   ],
   "source": [
    "import os\n",
    "import shutil\n",
    "from keras.models import *\n",
    "from keras.layers import *\n",
    "from keras.applications import *\n",
    "from keras.preprocessing.image import *\n",
    "from keras.applications import *\n",
    "import matplotlib.pyplot as plt\n",
    "import pandas as pd\n",
    "import cv2\n",
    "import numpy as np\n",
    "from keras.preprocessing import image"
   ]
  },
  {
   "cell_type": "code",
   "execution_count": null,
   "metadata": {},
   "outputs": [],
   "source": [
    "#参数\n",
    "train_file_name='train'\n",
    "valid_file_name='valid'"
   ]
  },
  {
   "cell_type": "code",
   "execution_count": null,
   "metadata": {},
   "outputs": [],
   "source": [
    "#图片分类，创建软链接\n",
    "train_filenames = os.listdir('imagedata/train')\n",
    "test_filenames = os.listdir('imagedata/test')\n",
    "valid_count=int(len(train_filenames)*0.1)\n",
    "\n",
    "valid_data=train_filenames[-valid_count:]\n",
    "train_data=train_filenames[:-valid_count]\n",
    "\n",
    "train_cat = filter(lambda x:x[:3] == 'cat', train_data)\n",
    "train_dog = filter(lambda x:x[:3] == 'dog', train_data)\n",
    "\n",
    "valid_cat = filter(lambda x:x[:3] == 'cat', valid_data)\n",
    "valid_dog = filter(lambda x:x[:3] == 'dog', valid_data)\n",
    "\n",
    "def cre_rem_dir(dirname):\n",
    "    if os.path.exists(dirname):\n",
    "        shutil.rmtree(dirname)\n",
    "    os.mkdir(dirname)\n",
    "\n",
    "cre_rem_dir(train_file_name)\n",
    "os.mkdir(train_file_name+'/cat')\n",
    "os.mkdir(train_file_name+'/dog')\n",
    "\n",
    "cre_rem_dir(valid_file_name)\n",
    "os.mkdir(valid_file_name+'/cat')\n",
    "os.mkdir(valid_file_name+'/dog')\n",
    "\n",
    "cre_rem_dir('test')\n",
    "cur_path=os.getcwd()\n",
    "    \n",
    "for filename in train_cat:\n",
    "    os.symlink(cur_path+'/imagedata/train/'+filename, train_file_name+'/cat/'+filename)\n",
    "for filename in train_dog:\n",
    "    os.symlink(cur_path+'/imagedata/train/'+filename, train_file_name+'/dog/'+filename)\n",
    "for filename in valid_cat:\n",
    "    os.symlink(cur_path+'/imagedata/train/'+filename, valid_file_name+'/cat/'+filename)\n",
    "for filename in valid_dog:\n",
    "    os.symlink(cur_path+'/imagedata/train/'+filename, valid_file_name+'/dog/'+filename)\n",
    "for filename in test_filenames:\n",
    "    os.symlink(cur_path+'/imagedata/test/'+filename, 'test/'+filename)"
   ]
  },
  {
   "cell_type": "code",
   "execution_count": null,
   "metadata": {},
   "outputs": [],
   "source": [
    "#数据增强\n",
    "def data_enhancement(model_pre_name,width,height):\n",
    "\n",
    "    train_datagen =  ImageDataGenerator(\n",
    "        preprocessing_function=model_pre_name.preprocess_input,\n",
    "        rotation_range=30,\n",
    "        width_shift_range=0.2,\n",
    "        height_shift_range=0.2,\n",
    "        shear_range=0.2,\n",
    "        zoom_range=0.2,\n",
    "        horizontal_flip=True\n",
    "    )\n",
    "\n",
    "    valid_datagen = ImageDataGenerator(\n",
    "        preprocessing_function=model_pre_name.preprocess_input,\n",
    "        rotation_range=30,\n",
    "        width_shift_range=0.2,\n",
    "        height_shift_range=0.2,\n",
    "        shear_range=0.2,\n",
    "        zoom_range=0.2,\n",
    "        horizontal_flip=True\n",
    "    )\n",
    "\n",
    "\n",
    "    train_generator = train_datagen.flow_from_directory(\n",
    "      'train',\n",
    "      target_size=(width, height),\n",
    "      batch_size=batch_size,\n",
    "      shuffle=False\n",
    "    )\n",
    "    validation_generator = valid_datagen.flow_from_directory(\n",
    "      'valid',\n",
    "      target_size=(width, height),\n",
    "      batch_size=batch_size,\n",
    "      shuffle=False\n",
    "    )\n",
    "    \n",
    "    return (train_generator,validation_generator)\n",
    "\n",
    "    "
   ]
  },
  {
   "cell_type": "code",
   "execution_count": null,
   "metadata": {},
   "outputs": [],
   "source": [
    "#添加新层\n",
    "def add_new_last_layer(base_model):\n",
    "    \n",
    "    x = base_model.output\n",
    "    x = GlobalAveragePooling2D()(x)\n",
    "    x = Dropout(0.5)(x)\n",
    "    x = Dense(1, activation='sigmoid')(x)\n",
    "    model = Model(input=base_model.input, output=x)\n",
    "    return model\n"
   ]
  },
  {
   "cell_type": "code",
   "execution_count": null,
   "metadata": {},
   "outputs": [],
   "source": [
    "def plot_training(history):\n",
    "    acc = history.history['acc']\n",
    "    val_acc = history.history['val_acc']\n",
    "    loss = history.history['loss']\n",
    "    val_loss = history.history['val_loss']\n",
    "    epochs = range(len(acc))\n",
    "\n",
    "    plt.plot(epochs, acc, 'r.')\n",
    "    plt.plot(epochs, val_acc, 'r')\n",
    "    plt.title('Training and validation accuracy')\n",
    "\n",
    "    plt.figure()\n",
    "    plt.plot(epochs, loss, 'r.')\n",
    "    plt.plot(epochs, val_loss, 'r-')\n",
    "    plt.title('Training and validation loss')\n",
    "  \n",
    "    plt.show()\n",
    "  "
   ]
  },
  {
   "cell_type": "code",
   "execution_count": null,
   "metadata": {},
   "outputs": [],
   "source": [
    "#训练模型\n",
    "def train_model(model_name,model_pre_name,epoch,width,height,save_name):\n",
    "    base_model = model_name(weights='imagenet', include_top=False)\n",
    "\n",
    "    model=add_new_last_layer(base_model)\n",
    "    train_generator,validation_generator = data_enhancement(model_pre_name,width,height)\n",
    "    \n",
    "    \n",
    "    model.compile(optimizer='rmsprop',\n",
    "                  loss='categorical_crossentropy', \n",
    "                  metrics=['accuracy'])\n",
    "    \n",
    "    history = model.fit_generator(train_generator,\n",
    "                                  epochs=epoch,\n",
    "                                  validation_data=validation_generator,\n",
    "                                  class_weight='auto')\n",
    "    plot_training(history)   \n",
    "    model.save(save_name)\n",
    "    \n"
   ]
  },
  {
   "cell_type": "code",
   "execution_count": null,
   "metadata": {},
   "outputs": [],
   "source": [
    "#调试参数\n",
    "IM_WIDTH, IM_HEIGHT = 299, 299 #fixed size \n",
    "\n",
    "\n",
    "batch_size=16\n",
    "nb_epoch =5"
   ]
  },
  {
   "cell_type": "code",
   "execution_count": null,
   "metadata": {},
   "outputs": [],
   "source": [
    "#选择模型\n",
    "\n",
    "train_model(ResNet50,resnet50,nb_epoch,244,244,'ResNet50')\n",
    "train_model(InceptionV3,inception_v3,nb_epoch,IM_WIDTH, IM_HEIGHT ,'InceptionV3')\n",
    "train_model(InceptionResNetV2,inception_resnet_v2,nb_epoch,IM_WIDTH, IM_HEIGHT ,'InceptionResNetV2')\n"
   ]
  },
  {
   "cell_type": "code",
   "execution_count": null,
   "metadata": {},
   "outputs": [],
   "source": [
    "#图片预处理\n",
    "def img_pre(img,model_pre_name):\n",
    "    x = image.img_to_array(img)\n",
    "    x = np.expand_dims(x, axis=0)\n",
    "    x = model_pre_name.preprocess_input(x)\n",
    "    return x\n",
    "\n",
    "def"
   ]
  },
  {
   "cell_type": "code",
   "execution_count": null,
   "metadata": {},
   "outputs": [],
   "source": [
    "#加载图像并进行预测\n",
    "#读取测试图片\n",
    "path='/imagedata/test'\n",
    "current_path=os.getcwd()\n",
    "abosult_path=current_path+path\n",
    "dataframe = pd.read_csv(current_path+'/imagedata/sample_submission.csv')\n",
    "    \n",
    "for image_name in os.listdir(abosult_path):\n",
    "    img = image.load_img(current_path+path+\"/\"+image_name,target_size=(299,299))\n",
    "\n",
    "    #加载模型\n",
    "    \n",
    "    model1 = load_model('ResNet50')  \n",
    "    model2 = load_model('InceptionV3')\n",
    "    model3 = load_model('IncetionResNetV2')\n",
    "    \n",
    "    x1 = img_pre(img,'resnet50')\n",
    "    x2 = img_pre(img,'inception_v3')\n",
    "    x3 = img_pre(img,'inception_resnet_v2')\n",
    "    \n",
    "    \n",
    "    index=int(image_name[:-4])\n",
    "    # 对图像进行分类\n",
    "    pred1 = model1.predict(x1)\n",
    "    pred2 = model2.predict(x2)\n",
    "    pred3 = model3.predict(x3)\n",
    "    \n",
    "    preds = (pred1+pred2+pred3)/3\n",
    "    \n",
    "    pred=0\n",
    "    if preds[0][0]>preds[0][1]:\n",
    "        pred=0.005\n",
    "    else:\n",
    "        pred=0.995\n",
    "    dataframe.set_value(index-1,'label',preds[0][0])\n",
    "    # 输出预测概率\n",
    "print (dataframe)\n",
    "    \n",
    "    \n",
    "dataframe.to_csv('test.csv',index=False,sep=',')\n"
   ]
  },
  {
   "cell_type": "code",
   "execution_count": null,
   "metadata": {},
   "outputs": [],
   "source": []
  }
 ],
 "metadata": {
  "kernelspec": {
   "display_name": "tensorflow",
   "language": "python",
   "name": "tensorflow"
  },
  "language_info": {
   "codemirror_mode": {
    "name": "ipython",
    "version": 3
   },
   "file_extension": ".py",
   "mimetype": "text/x-python",
   "name": "python",
   "nbconvert_exporter": "python",
   "pygments_lexer": "ipython3",
   "version": "3.5.4"
  }
 },
 "nbformat": 4,
 "nbformat_minor": 2
}
