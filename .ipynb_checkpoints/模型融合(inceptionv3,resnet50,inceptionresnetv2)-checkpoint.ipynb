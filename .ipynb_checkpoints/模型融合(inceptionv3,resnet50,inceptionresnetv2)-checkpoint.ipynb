{
 "cells": [
  {
   "cell_type": "markdown",
   "metadata": {},
   "source": [
    "# 模型融合"
   ]
  },
  {
   "cell_type": "code",
   "execution_count": null,
   "metadata": {},
   "outputs": [],
   "source": [
    "import os\n",
    "import shutil\n",
    "from keras.models import *\n",
    "from keras.layers import *\n",
    "from keras.applications import *\n",
    "from keras.preprocessing.image import *\n",
    "from keras.applications import *\n",
    "import matplotlib.pyplot as plt\n",
    "import pandas as pd\n",
    "import cv2\n",
    "import numpy as np"
   ]
  },
  {
   "cell_type": "code",
   "execution_count": null,
   "metadata": {},
   "outputs": [],
   "source": [
    "#参数\n",
    "train_file_name='train'\n",
    "valid_file_name='valid'"
   ]
  },
  {
   "cell_type": "code",
   "execution_count": null,
   "metadata": {},
   "outputs": [],
   "source": [
    "#图片分类，创建软链接\n",
    "train_filenames = os.listdir('imagedata/train')\n",
    "test_filenames = os.listdir('imagedata/test')\n",
    "valid_count=int(len(train_filenames)*0.1)\n",
    "\n",
    "valid_data=train_filenames[-valid_count:]\n",
    "train_data=train_filenames[:-valid_count]\n",
    "\n",
    "train_cat = filter(lambda x:x[:3] == 'cat', train_data)\n",
    "train_dog = filter(lambda x:x[:3] == 'dog', train_data)\n",
    "\n",
    "valid_cat = filter(lambda x:x[:3] == 'cat', valid_data)\n",
    "valid_dog = filter(lambda x:x[:3] == 'dog', valid_data)\n",
    "\n",
    "def cre_rem_dir(dirname):\n",
    "    if os.path.exists(dirname):\n",
    "        shutil.rmtree(dirname)\n",
    "    os.mkdir(dirname)\n",
    "\n",
    "cre_rem_dir(train_file_name)\n",
    "os.mkdir(train_file_name+'/cat')\n",
    "os.mkdir(train_file_name+'/dog')\n",
    "\n",
    "cre_rem_dir(valid_file_name)\n",
    "os.mkdir(valid_file_name+'/cat')\n",
    "os.mkdir(valid_file_name+'/dog')\n",
    "\n",
    "cre_rem_dir('test')\n",
    "cur_path=os.getcwd()\n",
    "\n",
    "for filename in train_cat:\n",
    "    os.symlink(cur_path+'/imagedata/train/'+filename, train_file_name+'/cat/'+filename)\n",
    "for filename in train_dog:\n",
    "    os.symlink(cur_path+'/imagedata/train/'+filename, train_file_name+'/dog/'+filename)\n",
    "for filename in valid_cat:\n",
    "    os.symlink(cur_path+'/imagedata/train/'+filename, valid_file_name+'/cat/'+filename)\n",
    "for filename in valid_dog:\n",
    "    os.symlink(cur_path+'/imagedata/train/'+filename, valid_file_name+'/dog/'+filename)\n",
    "for filename in test_filenames:\n",
    "    os.symlink(cur_path+'/imagedata/test/'+filename, 'test/'+filename)"
   ]
  },
  {
   "cell_type": "code",
   "execution_count": null,
   "metadata": {},
   "outputs": [],
   "source": [
    "#数据增强\n",
    "def data_enhancement(model_pre_name):\n",
    "\n",
    "    train_datagen =  ImageDataGenerator(\n",
    "        preprocessing_function=model_pre_name.preprocess_input,\n",
    "        rotation_range=30,\n",
    "        width_shift_range=0.2,\n",
    "        height_shift_range=0.2,\n",
    "        shear_range=0.2,\n",
    "        zoom_range=0.2,\n",
    "        horizontal_flip=True\n",
    "    )\n",
    "\n",
    "    valid_datagen = ImageDataGenerator(\n",
    "        preprocessing_function=model_pre_name.preprocess_input,\n",
    "        rotation_range=30,\n",
    "        width_shift_range=0.2,\n",
    "        height_shift_range=0.2,\n",
    "        shear_range=0.2,\n",
    "        zoom_range=0.2,\n",
    "        horizontal_flip=True\n",
    "    )\n",
    "\n",
    "\n",
    "    train_generator = train_datagen.flow_from_directory(\n",
    "      'train',\n",
    "      target_size=(IM_WIDTH, IM_HEIGHT),\n",
    "      batch_size=batch_size,\n",
    "    )\n",
    "    validation_generator = valid_datagen.flow_from_directory(\n",
    "      'valid',\n",
    "      target_size=(IM_WIDTH, IM_HEIGHT),\n",
    "      batch_size=batch_size,\n",
    "    )\n",
    "    \n",
    "    return (train_generator,validation_generator)\n",
    "\n",
    "    "
   ]
  },
  {
   "cell_type": "code",
   "execution_count": null,
   "metadata": {},
   "outputs": [],
   "source": [
    "#添加新层\n",
    "def add_new_last_layer(base_model, nb_classes):\n",
    "    \n",
    "    x = base_model.output\n",
    "    x = GlobalAveragePooling2D()(x)\n",
    "    x = Dense(FC_SIZE, activation='relu')(x) \n",
    "    predictions = Dense(nb_classes, activation='softmax')(x) \n",
    "    model = Model(input=base_model.input, output=predictions)\n",
    "    return model\n",
    "\n",
    "\n",
    "def setup_to_transfer_learn(model, base_model):\n",
    "    for layer in base_model.layers:\n",
    "        layer.trainable = False\n",
    "        model.compile(optimizer='rmsprop',\n",
    "                      loss='categorical_crossentropy', \n",
    "                      metrics=['accuracy'])\n"
   ]
  },
  {
   "cell_type": "code",
   "execution_count": null,
   "metadata": {},
   "outputs": [],
   "source": [
    "    \n",
    "#训练模型\n",
    "def train_model(model_name,model_pre_name,epoch):\n",
    "    base_model = model_name(weights='imagenet', include_top=False)\n",
    "\n",
    "    model=add_new_last_layer(base_model,2)\n",
    "\n",
    "    setup_to_transfer_learn(model,base_model)\n",
    "    \n",
    "    train_generator,validation_generator = data_enhancement(model_pre_name)\n",
    "    \n",
    "    history = model.fit_generator(train_generator,\n",
    "                                  nb_epoch=epoch,\n",
    "                                  validation_data=validation_generator,\n",
    "                                  class_weight='auto')\n",
    "    model.save(model_name)"
   ]
  },
  {
   "cell_type": "code",
   "execution_count": null,
   "metadata": {},
   "outputs": [],
   "source": [
    "#调试参数\n",
    "IM_WIDTH, IM_HEIGHT = 299, 299 #fixed size \n",
    "\n",
    "\n",
    "batch_size=128\n",
    "nb_epoch =5\n",
    "FC_SIZE = 128"
   ]
  },
  {
   "cell_type": "code",
   "execution_count": null,
   "metadata": {},
   "outputs": [],
   "source": [
    "#选择模型\n",
    "\n",
    "train_model('ResNet50','resnet50',nb_epoch)\n",
    "train_model('InceptionV3','inception_v3')\n",
    "train_model('InceptionResNetV2','inception_resnet_v2')\n"
   ]
  },
  {
   "cell_type": "code",
   "execution_count": null,
   "metadata": {},
   "outputs": [],
   "source": []
  },
  {
   "cell_type": "code",
   "execution_count": null,
   "metadata": {},
   "outputs": [],
   "source": []
  },
  {
   "cell_type": "code",
   "execution_count": null,
   "metadata": {},
   "outputs": [],
   "source": []
  },
  {
   "cell_type": "code",
   "execution_count": null,
   "metadata": {},
   "outputs": [],
   "source": []
  }
 ],
 "metadata": {
  "kernelspec": {
   "display_name": "Python 2",
   "language": "python",
   "name": "python2"
  },
  "language_info": {
   "codemirror_mode": {
    "name": "ipython",
    "version": 2
   },
   "file_extension": ".py",
   "mimetype": "text/x-python",
   "name": "python",
   "nbconvert_exporter": "python",
   "pygments_lexer": "ipython2",
   "version": "2.7.13"
  }
 },
 "nbformat": 4,
 "nbformat_minor": 2
}
