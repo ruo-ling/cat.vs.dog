{
 "cells": [
  {
   "cell_type": "markdown",
   "metadata": {},
   "source": [
    "#  VGG网络"
   ]
  },
  {
   "cell_type": "code",
   "execution_count": 2,
   "metadata": {},
   "outputs": [],
   "source": [
    "#读取检查图像数据\n",
    "#os.walk--os.listdir\n",
    "import os\n",
    "import numpy as np\n",
    "import cv2\n",
    "\n",
    "#train data\n",
    "path='/imagedata/train'\n",
    "class_list=[]\n",
    "img_list=[]\n",
    "current_path=os.getcwd()\n",
    "abosult_path=current_path+path\n",
    "for image_name in os.listdir(abosult_path):    \n",
    "    class_list.append(image_name[0:3])\n",
    "    img =cv2.imread(abosult_path+'/'+image_name,1)\n",
    "    img_resize=cv2.resize(img,(224,224))\n",
    "    img_list.append(img_resize)"
   ]
  },
  {
   "cell_type": "code",
   "execution_count": null,
   "metadata": {},
   "outputs": [],
   "source": [
    "#分离数据集\n",
    "test_count=int(len(img_list)*0.1)\n",
    "x_test = img_list[-test_count:]\n",
    "y_test = class_list[-test_count:]\n",
    "\n",
    "\n",
    "x_train=img_list[:-test_count]\n",
    "y_train=class_list[:-test_count]"
   ]
  },
  {
   "cell_type": "code",
   "execution_count": 3,
   "metadata": {},
   "outputs": [
    {
     "name": "stderr",
     "output_type": "stream",
     "text": [
      "Using TensorFlow backend.\n"
     ]
    }
   ],
   "source": [
    "import keras\n",
    "from keras.models import Sequential\n",
    "from keras.layers import Dense, Dropout, Flatten\n",
    "from keras.layers import Conv2D, MaxPooling2D\n",
    "from keras.optimizers import SGD"
   ]
  },
  {
   "cell_type": "code",
   "execution_count": null,
   "metadata": {},
   "outputs": [],
   "source": [
    "model = Sequential()\n",
    "# input: 100x100 images with 3 channels -> (100, 100, 3) tensors.\n",
    "# this applies 32 convolution filters of size 3x3 each.\n",
    "model.add(Conv2D(64, (3, 3), activation='relu', input_shape=(244, 244, 3)))\n",
    "model.add(Conv2D(64, (3, 3), activation='relu'))\n",
    "model.add(MaxPooling2D(pool_size=(2,2)))\n",
    "\n",
    "model.add(Conv2D(128, (3, 3), activation='relu'))\n",
    "model.add(Conv2D(128, (3, 3), activation='relu'))\n",
    "model.add(MaxPooling2D(pool_size=(2,2)))\n",
    "model.add(Dropout(0.25))\n",
    "\n",
    "\n",
    "model.add(Conv2D(256, (3,3),activation='relu'))\n",
    "model.add(Conv2D(256, (3,3),activation='relu'))\n",
    "model.add(Conv2D(256, (3,3),activation='relu'))\n",
    "model.add(Conv2D(256, (3,3),activation='relu'))\n",
    "model.add(MaxPooling2D(pool_size=(2,2)))\n",
    "model.add(Dropout(0.25))\n",
    "\n",
    "model.add(Conv2D(512, (3,3),activation='relu'))\n",
    "model.add(Conv2D(512, (3,3),activation='relu'))\n",
    "model.add(Conv2D(512, (3,3),activation='relu'))\n",
    "model.add(Conv2D(512, (3,3),activation='relu'))\n",
    "model.add(MaxPooling2D(pool_size=(2,2)))\n",
    "model.add(Dropout(0.25))\n",
    "\n",
    "model.add(Conv2D(512, (3,3),activation='relu'))\n",
    "model.add(Conv2D(512, (3,3),activation='relu'))\n",
    "model.add(Conv2D(512, (3,3),activation='relu'))\n",
    "model.add(Conv2D(512, (3,3),activation='relu'))\n",
    "model.add(MaxPooling2D(pool_size=(2,2)))\n",
    "model.add(Dropout(0.25))\n",
    "\n",
    "model.add(Flatten())\n",
    "model.add(Dense(4096, activation='relu'))\n",
    "model.add(Dropout(0.25))\n",
    "model.add(Dense(4096, activation='relu'))\n",
    "model.add(Dropout(0.25))\n",
    "model.add(Dense(1, activation='softmax'))\n",
    "\n",
    "sgd = SGD(lr=0.01, decay=1e-6, momentum=0.9, nesterov=True)\n",
    "model.compile(loss='categorical_crossentropy', optimizer=sgd)\n",
    "\n",
    "model.fit(x_train, y_train, batch_size=32, epochs=10)\n",
    "score = model.evaluate(x_test, y_test, batch_size=32)"
   ]
  }
 ],
 "metadata": {
  "kernelspec": {
   "display_name": "tensorflow",
   "language": "python",
   "name": "tensorflow"
  },
  "language_info": {
   "codemirror_mode": {
    "name": "ipython",
    "version": 3
   },
   "file_extension": ".py",
   "mimetype": "text/x-python",
   "name": "python",
   "nbconvert_exporter": "python",
   "pygments_lexer": "ipython3",
   "version": "3.5.4"
  }
 },
 "nbformat": 4,
 "nbformat_minor": 2
}
